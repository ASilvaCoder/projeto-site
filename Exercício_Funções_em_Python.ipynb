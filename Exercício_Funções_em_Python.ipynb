{
  "nbformat": 4,
  "nbformat_minor": 0,
  "metadata": {
    "colab": {
      "provenance": [],
      "authorship_tag": "ABX9TyMl6g3tOjcpPlEiir/MuGMC",
      "include_colab_link": true
    },
    "kernelspec": {
      "name": "python3",
      "display_name": "Python 3"
    },
    "language_info": {
      "name": "python"
    }
  },
  "cells": [
    {
      "cell_type": "markdown",
      "metadata": {
        "id": "view-in-github",
        "colab_type": "text"
      },
      "source": [
        "<a href=\"https://colab.research.google.com/github/ASilvaCoder/projeto-site/blob/main/Exerc%C3%ADcio_Fun%C3%A7%C3%B5es_em_Python.ipynb\" target=\"_parent\"><img src=\"https://colab.research.google.com/assets/colab-badge.svg\" alt=\"Open In Colab\"/></a>"
      ]
    },
    {
      "cell_type": "code",
      "execution_count": 117,
      "metadata": {
        "colab": {
          "base_uri": "https://localhost:8080/"
        },
        "id": "mQ4mRhhVh7aB",
        "outputId": "b59270e0-3815-4b90-db1c-25a4cad97a98"
      },
      "outputs": [
        {
          "output_type": "stream",
          "name": "stdout",
          "text": [
            "[9.3, 5.9, 7.3, 8.7, 6.2, 9.1]\n"
          ]
        }
      ],
      "source": [
        "# Lista de notas dos estudantes\n",
        "\n",
        "notas = [9.3,5.9,7.3,8.7,6.2,9.1]\n",
        "\n",
        "print(notas)\n"
      ]
    },
    {
      "cell_type": "code",
      "source": [
        "# Função regular para calcular a média\n",
        "\n",
        "def calcular_media(notas):\n",
        "  total = sum(notas)\n",
        "  media = total / len(notas)\n",
        "\n",
        "  return media\n",
        "\n",
        "print(calcular_media(notas))\n",
        "\n",
        "media = calcular_media(notas)"
      ],
      "metadata": {
        "colab": {
          "base_uri": "https://localhost:8080/"
        },
        "id": "naJKnU_8iHPX",
        "outputId": "a12c9a7f-028b-45ec-bf66-69f1e6703276"
      },
      "execution_count": 121,
      "outputs": [
        {
          "output_type": "stream",
          "name": "stdout",
          "text": [
            "7.75\n"
          ]
        }
      ]
    },
    {
      "cell_type": "code",
      "source": [
        "# Função lambda para arredondar a média para duas casas decimais\n",
        "\n",
        "arredondar_media = lambda media: round(media,2)\n",
        "\n",
        "print(arredondar_media(media))\n"
      ],
      "metadata": {
        "colab": {
          "base_uri": "https://localhost:8080/"
        },
        "id": "psp_XxRmiFFE",
        "outputId": "b6db830d-d1fb-4af5-aded-83eb1916919d"
      },
      "execution_count": 125,
      "outputs": [
        {
          "output_type": "stream",
          "name": "stdout",
          "text": [
            "7.75\n"
          ]
        }
      ]
    },
    {
      "cell_type": "code",
      "source": [
        "# Calcular a média\n",
        "\n",
        "media_calculada = arredondar_media(media)\n",
        "\n",
        "print(media_calculada)\n"
      ],
      "metadata": {
        "colab": {
          "base_uri": "https://localhost:8080/"
        },
        "id": "mHzC17YViLPQ",
        "outputId": "2dfecd7a-17b7-4676-9cde-2fa613e108f9"
      },
      "execution_count": 126,
      "outputs": [
        {
          "output_type": "stream",
          "name": "stdout",
          "text": [
            "7.75\n"
          ]
        }
      ]
    },
    {
      "cell_type": "code",
      "source": [
        "# Verificar se os estudantes foram aprovados >=7\n",
        "\n",
        "if media_calculada >= 7:\n",
        "  resultado = \"\\nAPROVADO!\"\n",
        "\n",
        "else:\n",
        "  resultado = \"\\nREPROVADO!\"\n",
        "\n"
      ],
      "metadata": {
        "id": "PEkc45H3iOUU"
      },
      "execution_count": 127,
      "outputs": []
    },
    {
      "cell_type": "code",
      "source": [
        "# Resultados\n",
        "\n",
        "for nota in notas:\n",
        "   print(nota)\n",
        "\n",
        "print(f\"\\nSua nota média é:\\n{media_calculada}\")\n",
        "\n",
        "print(resultado)"
      ],
      "metadata": {
        "colab": {
          "base_uri": "https://localhost:8080/"
        },
        "id": "IsL0pNICiQmh",
        "outputId": "fe1a3be5-c9eb-4fb5-e676-516cb7ead99c"
      },
      "execution_count": 128,
      "outputs": [
        {
          "output_type": "stream",
          "name": "stdout",
          "text": [
            "9.3\n",
            "5.9\n",
            "7.3\n",
            "8.7\n",
            "6.2\n",
            "9.1\n",
            "\n",
            "Sua nota média é:\n",
            "7.75\n",
            "\n",
            "APROVADO!\n"
          ]
        }
      ]
    }
  ]
}